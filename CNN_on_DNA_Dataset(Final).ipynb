{
  "nbformat": 4,
  "nbformat_minor": 0,
  "metadata": {
    "colab": {
      "name": "CNN_on_DNA_Dataset(Final).ipynb",
      "provenance": []
    },
    "kernelspec": {
      "name": "python3",
      "display_name": "Python 3"
    },
    "language_info": {
      "name": "python"
    }
  },
  "cells": [
    {
      "cell_type": "markdown",
      "metadata": {
        "id": "sAmMQuPnyNJk"
      },
      "source": [
        "### Importing all the libraries needed."
      ]
    },
    {
      "cell_type": "code",
      "metadata": {
        "id": "1Cv5aScA4qB_"
      },
      "source": [
        "import numpy as np\n",
        "import pandas as pd\n",
        "from tensorflow.keras.utils import to_categorical\n",
        "import matplotlib.pyplot as plt\n",
        "from sklearn.model_selection import train_test_split\n",
        "from sklearn.metrics import classification_report\n",
        "\n",
        "import keras\n",
        "from keras.models import Sequential, Input, Model\n",
        "from keras.layers import Dense, Dropout, Flatten\n",
        "from keras.layers import Conv1D, MaxPooling1D\n",
        "from keras.layers.normalization import BatchNormalization\n",
        "from keras.layers.advanced_activations import LeakyReLU"
      ],
      "execution_count": null,
      "outputs": []
    },
    {
      "cell_type": "markdown",
      "metadata": {
        "id": "yHFRqyxvyYiW"
      },
      "source": [
        "### Read the rawdata.csv dataset using pandas read_csv()."
      ]
    },
    {
      "cell_type": "code",
      "metadata": {
        "colab": {
          "base_uri": "https://localhost:8080/",
          "height": 253
        },
        "id": "_WMQnjNLYzU5",
        "outputId": "fde232d0-8241-485c-e4ee-be7dcbdd4b0e"
      },
      "source": [
        "dataset = pd.read_csv('rawdata.csv')\n",
        "dataset.head()"
      ],
      "execution_count": null,
      "outputs": [
        {
          "output_type": "execute_result",
          "data": {
            "text/html": [
              "<div>\n",
              "<style scoped>\n",
              "    .dataframe tbody tr th:only-of-type {\n",
              "        vertical-align: middle;\n",
              "    }\n",
              "\n",
              "    .dataframe tbody tr th {\n",
              "        vertical-align: top;\n",
              "    }\n",
              "\n",
              "    .dataframe thead th {\n",
              "        text-align: right;\n",
              "    }\n",
              "</style>\n",
              "<table border=\"1\" class=\"dataframe\">\n",
              "  <thead>\n",
              "    <tr style=\"text-align: right;\">\n",
              "      <th></th>\n",
              "      <th>SAMPLE_ID</th>\n",
              "      <th>snp_0</th>\n",
              "      <th>snp_1</th>\n",
              "      <th>snp_2</th>\n",
              "      <th>snp_3</th>\n",
              "      <th>snp_4</th>\n",
              "      <th>snp_5</th>\n",
              "      <th>snp_6</th>\n",
              "      <th>snp_7</th>\n",
              "      <th>snp_8</th>\n",
              "      <th>snp_9</th>\n",
              "      <th>snp_10</th>\n",
              "      <th>snp_11</th>\n",
              "      <th>snp_12</th>\n",
              "      <th>snp_13</th>\n",
              "      <th>snp_14</th>\n",
              "      <th>snp_15</th>\n",
              "      <th>snp_16</th>\n",
              "      <th>snp_17</th>\n",
              "      <th>snp_18</th>\n",
              "      <th>snp_19</th>\n",
              "      <th>snp_20</th>\n",
              "      <th>snp_21</th>\n",
              "      <th>snp_22</th>\n",
              "      <th>snp_23</th>\n",
              "      <th>snp_24</th>\n",
              "      <th>snp_25</th>\n",
              "      <th>snp_26</th>\n",
              "      <th>snp_27</th>\n",
              "      <th>snp_28</th>\n",
              "      <th>snp_29</th>\n",
              "      <th>snp_30</th>\n",
              "      <th>snp_31</th>\n",
              "      <th>snp_32</th>\n",
              "      <th>snp_33</th>\n",
              "      <th>snp_34</th>\n",
              "      <th>snp_35</th>\n",
              "      <th>snp_36</th>\n",
              "      <th>snp_37</th>\n",
              "      <th>snp_38</th>\n",
              "      <th>...</th>\n",
              "      <th>snp_9962</th>\n",
              "      <th>snp_9963</th>\n",
              "      <th>snp_9964</th>\n",
              "      <th>snp_9965</th>\n",
              "      <th>snp_9966</th>\n",
              "      <th>snp_9967</th>\n",
              "      <th>snp_9968</th>\n",
              "      <th>snp_9969</th>\n",
              "      <th>snp_9970</th>\n",
              "      <th>snp_9971</th>\n",
              "      <th>snp_9972</th>\n",
              "      <th>snp_9973</th>\n",
              "      <th>snp_9974</th>\n",
              "      <th>snp_9975</th>\n",
              "      <th>snp_9976</th>\n",
              "      <th>snp_9977</th>\n",
              "      <th>snp_9978</th>\n",
              "      <th>snp_9979</th>\n",
              "      <th>snp_9980</th>\n",
              "      <th>snp_9981</th>\n",
              "      <th>snp_9982</th>\n",
              "      <th>snp_9983</th>\n",
              "      <th>snp_9984</th>\n",
              "      <th>snp_9985</th>\n",
              "      <th>snp_9986</th>\n",
              "      <th>snp_9987</th>\n",
              "      <th>snp_9988</th>\n",
              "      <th>snp_9989</th>\n",
              "      <th>snp_9990</th>\n",
              "      <th>snp_9991</th>\n",
              "      <th>snp_9992</th>\n",
              "      <th>snp_9993</th>\n",
              "      <th>snp_9994</th>\n",
              "      <th>snp_9995</th>\n",
              "      <th>snp_9996</th>\n",
              "      <th>snp_9997</th>\n",
              "      <th>snp_9998</th>\n",
              "      <th>snp_9999</th>\n",
              "      <th>snp_10000</th>\n",
              "      <th>STATUS</th>\n",
              "    </tr>\n",
              "  </thead>\n",
              "  <tbody>\n",
              "    <tr>\n",
              "      <th>0</th>\n",
              "      <td>HCB181</td>\n",
              "      <td>1</td>\n",
              "      <td>0</td>\n",
              "      <td>0</td>\n",
              "      <td>1</td>\n",
              "      <td>1</td>\n",
              "      <td>2</td>\n",
              "      <td>2</td>\n",
              "      <td>2</td>\n",
              "      <td>2</td>\n",
              "      <td>2</td>\n",
              "      <td>2</td>\n",
              "      <td>1</td>\n",
              "      <td>2</td>\n",
              "      <td>2</td>\n",
              "      <td>2</td>\n",
              "      <td>2</td>\n",
              "      <td>2</td>\n",
              "      <td>2</td>\n",
              "      <td>2</td>\n",
              "      <td>0</td>\n",
              "      <td>0</td>\n",
              "      <td>2</td>\n",
              "      <td>2</td>\n",
              "      <td>2</td>\n",
              "      <td>2</td>\n",
              "      <td>1</td>\n",
              "      <td>1</td>\n",
              "      <td>2</td>\n",
              "      <td>2</td>\n",
              "      <td>2</td>\n",
              "      <td>2</td>\n",
              "      <td>2</td>\n",
              "      <td>2</td>\n",
              "      <td>0</td>\n",
              "      <td>0</td>\n",
              "      <td>0</td>\n",
              "      <td>0</td>\n",
              "      <td>2</td>\n",
              "      <td>2</td>\n",
              "      <td>...</td>\n",
              "      <td>1</td>\n",
              "      <td>2</td>\n",
              "      <td>2</td>\n",
              "      <td>1</td>\n",
              "      <td>2</td>\n",
              "      <td>1</td>\n",
              "      <td>2</td>\n",
              "      <td>2</td>\n",
              "      <td>1</td>\n",
              "      <td>2</td>\n",
              "      <td>2</td>\n",
              "      <td>1</td>\n",
              "      <td>2</td>\n",
              "      <td>2</td>\n",
              "      <td>2</td>\n",
              "      <td>1</td>\n",
              "      <td>2</td>\n",
              "      <td>2</td>\n",
              "      <td>2</td>\n",
              "      <td>2</td>\n",
              "      <td>2</td>\n",
              "      <td>2</td>\n",
              "      <td>2</td>\n",
              "      <td>2</td>\n",
              "      <td>2</td>\n",
              "      <td>2</td>\n",
              "      <td>2</td>\n",
              "      <td>2</td>\n",
              "      <td>1</td>\n",
              "      <td>1</td>\n",
              "      <td>2</td>\n",
              "      <td>2</td>\n",
              "      <td>2</td>\n",
              "      <td>1</td>\n",
              "      <td>2</td>\n",
              "      <td>1</td>\n",
              "      <td>2</td>\n",
              "      <td>1</td>\n",
              "      <td>2</td>\n",
              "      <td>1</td>\n",
              "    </tr>\n",
              "    <tr>\n",
              "      <th>1</th>\n",
              "      <td>HCB182</td>\n",
              "      <td>1</td>\n",
              "      <td>0</td>\n",
              "      <td>0</td>\n",
              "      <td>1</td>\n",
              "      <td>1</td>\n",
              "      <td>2</td>\n",
              "      <td>2</td>\n",
              "      <td>1</td>\n",
              "      <td>2</td>\n",
              "      <td>2</td>\n",
              "      <td>2</td>\n",
              "      <td>1</td>\n",
              "      <td>2</td>\n",
              "      <td>1</td>\n",
              "      <td>2</td>\n",
              "      <td>2</td>\n",
              "      <td>2</td>\n",
              "      <td>2</td>\n",
              "      <td>2</td>\n",
              "      <td>0</td>\n",
              "      <td>0</td>\n",
              "      <td>2</td>\n",
              "      <td>2</td>\n",
              "      <td>2</td>\n",
              "      <td>2</td>\n",
              "      <td>2</td>\n",
              "      <td>2</td>\n",
              "      <td>1</td>\n",
              "      <td>1</td>\n",
              "      <td>1</td>\n",
              "      <td>2</td>\n",
              "      <td>0</td>\n",
              "      <td>0</td>\n",
              "      <td>0</td>\n",
              "      <td>0</td>\n",
              "      <td>0</td>\n",
              "      <td>0</td>\n",
              "      <td>2</td>\n",
              "      <td>2</td>\n",
              "      <td>...</td>\n",
              "      <td>1</td>\n",
              "      <td>2</td>\n",
              "      <td>2</td>\n",
              "      <td>1</td>\n",
              "      <td>2</td>\n",
              "      <td>1</td>\n",
              "      <td>2</td>\n",
              "      <td>2</td>\n",
              "      <td>1</td>\n",
              "      <td>2</td>\n",
              "      <td>2</td>\n",
              "      <td>2</td>\n",
              "      <td>2</td>\n",
              "      <td>2</td>\n",
              "      <td>2</td>\n",
              "      <td>1</td>\n",
              "      <td>2</td>\n",
              "      <td>2</td>\n",
              "      <td>2</td>\n",
              "      <td>1</td>\n",
              "      <td>2</td>\n",
              "      <td>1</td>\n",
              "      <td>2</td>\n",
              "      <td>2</td>\n",
              "      <td>2</td>\n",
              "      <td>2</td>\n",
              "      <td>2</td>\n",
              "      <td>2</td>\n",
              "      <td>2</td>\n",
              "      <td>1</td>\n",
              "      <td>1</td>\n",
              "      <td>1</td>\n",
              "      <td>2</td>\n",
              "      <td>2</td>\n",
              "      <td>2</td>\n",
              "      <td>1</td>\n",
              "      <td>2</td>\n",
              "      <td>2</td>\n",
              "      <td>2</td>\n",
              "      <td>2</td>\n",
              "    </tr>\n",
              "    <tr>\n",
              "      <th>2</th>\n",
              "      <td>HCB183</td>\n",
              "      <td>1</td>\n",
              "      <td>0</td>\n",
              "      <td>0</td>\n",
              "      <td>1</td>\n",
              "      <td>2</td>\n",
              "      <td>2</td>\n",
              "      <td>2</td>\n",
              "      <td>1</td>\n",
              "      <td>2</td>\n",
              "      <td>2</td>\n",
              "      <td>2</td>\n",
              "      <td>1</td>\n",
              "      <td>2</td>\n",
              "      <td>1</td>\n",
              "      <td>1</td>\n",
              "      <td>2</td>\n",
              "      <td>2</td>\n",
              "      <td>2</td>\n",
              "      <td>2</td>\n",
              "      <td>0</td>\n",
              "      <td>0</td>\n",
              "      <td>2</td>\n",
              "      <td>2</td>\n",
              "      <td>2</td>\n",
              "      <td>2</td>\n",
              "      <td>1</td>\n",
              "      <td>2</td>\n",
              "      <td>1</td>\n",
              "      <td>2</td>\n",
              "      <td>1</td>\n",
              "      <td>2</td>\n",
              "      <td>2</td>\n",
              "      <td>2</td>\n",
              "      <td>0</td>\n",
              "      <td>0</td>\n",
              "      <td>0</td>\n",
              "      <td>0</td>\n",
              "      <td>2</td>\n",
              "      <td>2</td>\n",
              "      <td>...</td>\n",
              "      <td>1</td>\n",
              "      <td>2</td>\n",
              "      <td>2</td>\n",
              "      <td>2</td>\n",
              "      <td>2</td>\n",
              "      <td>1</td>\n",
              "      <td>2</td>\n",
              "      <td>2</td>\n",
              "      <td>1</td>\n",
              "      <td>2</td>\n",
              "      <td>2</td>\n",
              "      <td>1</td>\n",
              "      <td>2</td>\n",
              "      <td>2</td>\n",
              "      <td>2</td>\n",
              "      <td>2</td>\n",
              "      <td>2</td>\n",
              "      <td>2</td>\n",
              "      <td>2</td>\n",
              "      <td>2</td>\n",
              "      <td>2</td>\n",
              "      <td>2</td>\n",
              "      <td>2</td>\n",
              "      <td>1</td>\n",
              "      <td>2</td>\n",
              "      <td>2</td>\n",
              "      <td>2</td>\n",
              "      <td>2</td>\n",
              "      <td>1</td>\n",
              "      <td>1</td>\n",
              "      <td>2</td>\n",
              "      <td>2</td>\n",
              "      <td>2</td>\n",
              "      <td>1</td>\n",
              "      <td>2</td>\n",
              "      <td>2</td>\n",
              "      <td>2</td>\n",
              "      <td>1</td>\n",
              "      <td>2</td>\n",
              "      <td>2</td>\n",
              "    </tr>\n",
              "    <tr>\n",
              "      <th>3</th>\n",
              "      <td>HCB184</td>\n",
              "      <td>1</td>\n",
              "      <td>0</td>\n",
              "      <td>0</td>\n",
              "      <td>1</td>\n",
              "      <td>1</td>\n",
              "      <td>2</td>\n",
              "      <td>2</td>\n",
              "      <td>1</td>\n",
              "      <td>2</td>\n",
              "      <td>2</td>\n",
              "      <td>2</td>\n",
              "      <td>1</td>\n",
              "      <td>1</td>\n",
              "      <td>2</td>\n",
              "      <td>2</td>\n",
              "      <td>2</td>\n",
              "      <td>2</td>\n",
              "      <td>2</td>\n",
              "      <td>2</td>\n",
              "      <td>0</td>\n",
              "      <td>0</td>\n",
              "      <td>2</td>\n",
              "      <td>2</td>\n",
              "      <td>2</td>\n",
              "      <td>2</td>\n",
              "      <td>1</td>\n",
              "      <td>1</td>\n",
              "      <td>2</td>\n",
              "      <td>2</td>\n",
              "      <td>2</td>\n",
              "      <td>2</td>\n",
              "      <td>2</td>\n",
              "      <td>2</td>\n",
              "      <td>0</td>\n",
              "      <td>0</td>\n",
              "      <td>0</td>\n",
              "      <td>0</td>\n",
              "      <td>2</td>\n",
              "      <td>2</td>\n",
              "      <td>...</td>\n",
              "      <td>1</td>\n",
              "      <td>1</td>\n",
              "      <td>1</td>\n",
              "      <td>1</td>\n",
              "      <td>2</td>\n",
              "      <td>1</td>\n",
              "      <td>2</td>\n",
              "      <td>1</td>\n",
              "      <td>1</td>\n",
              "      <td>2</td>\n",
              "      <td>2</td>\n",
              "      <td>1</td>\n",
              "      <td>2</td>\n",
              "      <td>2</td>\n",
              "      <td>2</td>\n",
              "      <td>2</td>\n",
              "      <td>2</td>\n",
              "      <td>1</td>\n",
              "      <td>2</td>\n",
              "      <td>2</td>\n",
              "      <td>2</td>\n",
              "      <td>2</td>\n",
              "      <td>2</td>\n",
              "      <td>2</td>\n",
              "      <td>2</td>\n",
              "      <td>2</td>\n",
              "      <td>2</td>\n",
              "      <td>1</td>\n",
              "      <td>1</td>\n",
              "      <td>2</td>\n",
              "      <td>2</td>\n",
              "      <td>2</td>\n",
              "      <td>2</td>\n",
              "      <td>1</td>\n",
              "      <td>2</td>\n",
              "      <td>2</td>\n",
              "      <td>2</td>\n",
              "      <td>1</td>\n",
              "      <td>2</td>\n",
              "      <td>2</td>\n",
              "    </tr>\n",
              "    <tr>\n",
              "      <th>4</th>\n",
              "      <td>HCB185</td>\n",
              "      <td>1</td>\n",
              "      <td>0</td>\n",
              "      <td>0</td>\n",
              "      <td>1</td>\n",
              "      <td>1</td>\n",
              "      <td>2</td>\n",
              "      <td>2</td>\n",
              "      <td>1</td>\n",
              "      <td>2</td>\n",
              "      <td>2</td>\n",
              "      <td>2</td>\n",
              "      <td>2</td>\n",
              "      <td>2</td>\n",
              "      <td>2</td>\n",
              "      <td>2</td>\n",
              "      <td>2</td>\n",
              "      <td>2</td>\n",
              "      <td>2</td>\n",
              "      <td>2</td>\n",
              "      <td>2</td>\n",
              "      <td>2</td>\n",
              "      <td>2</td>\n",
              "      <td>2</td>\n",
              "      <td>2</td>\n",
              "      <td>2</td>\n",
              "      <td>1</td>\n",
              "      <td>1</td>\n",
              "      <td>2</td>\n",
              "      <td>2</td>\n",
              "      <td>2</td>\n",
              "      <td>2</td>\n",
              "      <td>2</td>\n",
              "      <td>2</td>\n",
              "      <td>2</td>\n",
              "      <td>2</td>\n",
              "      <td>2</td>\n",
              "      <td>2</td>\n",
              "      <td>1</td>\n",
              "      <td>2</td>\n",
              "      <td>...</td>\n",
              "      <td>1</td>\n",
              "      <td>1</td>\n",
              "      <td>2</td>\n",
              "      <td>1</td>\n",
              "      <td>2</td>\n",
              "      <td>2</td>\n",
              "      <td>2</td>\n",
              "      <td>2</td>\n",
              "      <td>1</td>\n",
              "      <td>2</td>\n",
              "      <td>2</td>\n",
              "      <td>2</td>\n",
              "      <td>2</td>\n",
              "      <td>2</td>\n",
              "      <td>2</td>\n",
              "      <td>2</td>\n",
              "      <td>2</td>\n",
              "      <td>1</td>\n",
              "      <td>2</td>\n",
              "      <td>2</td>\n",
              "      <td>2</td>\n",
              "      <td>2</td>\n",
              "      <td>2</td>\n",
              "      <td>1</td>\n",
              "      <td>2</td>\n",
              "      <td>2</td>\n",
              "      <td>2</td>\n",
              "      <td>2</td>\n",
              "      <td>1</td>\n",
              "      <td>1</td>\n",
              "      <td>2</td>\n",
              "      <td>2</td>\n",
              "      <td>2</td>\n",
              "      <td>2</td>\n",
              "      <td>2</td>\n",
              "      <td>2</td>\n",
              "      <td>2</td>\n",
              "      <td>2</td>\n",
              "      <td>2</td>\n",
              "      <td>1</td>\n",
              "    </tr>\n",
              "  </tbody>\n",
              "</table>\n",
              "<p>5 rows × 10003 columns</p>\n",
              "</div>"
            ],
            "text/plain": [
              "  SAMPLE_ID  snp_0  snp_1  snp_2  ...  snp_9998  snp_9999  snp_10000  STATUS\n",
              "0    HCB181      1      0      0  ...         2         1          2       1\n",
              "1    HCB182      1      0      0  ...         2         2          2       2\n",
              "2    HCB183      1      0      0  ...         2         1          2       2\n",
              "3    HCB184      1      0      0  ...         2         1          2       2\n",
              "4    HCB185      1      0      0  ...         2         2          2       1\n",
              "\n",
              "[5 rows x 10003 columns]"
            ]
          },
          "metadata": {
            "tags": []
          },
          "execution_count": 2
        }
      ]
    },
    {
      "cell_type": "markdown",
      "metadata": {
        "id": "7Uz-ojg4yfzf"
      },
      "source": [
        "### Filling values for X and y where X are the features and y is the status."
      ]
    },
    {
      "cell_type": "code",
      "metadata": {
        "colab": {
          "base_uri": "https://localhost:8080/"
        },
        "id": "_DhFfXiAca4k",
        "outputId": "f610fde1-668f-4fca-9182-a010d0f00174"
      },
      "source": [
        "X = dataset.drop(['STATUS', 'SAMPLE_ID'], axis=1)\n",
        "y = dataset[['STATUS']]\n",
        "X, y"
      ],
      "execution_count": null,
      "outputs": [
        {
          "output_type": "execute_result",
          "data": {
            "text/plain": [
              "(    snp_0  snp_1  snp_2  snp_3  ...  snp_9997  snp_9998  snp_9999  snp_10000\n",
              " 0       1      0      0      1  ...         1         2         1          2\n",
              " 1       1      0      0      1  ...         1         2         2          2\n",
              " 2       1      0      0      1  ...         2         2         1          2\n",
              " 3       1      0      0      1  ...         2         2         1          2\n",
              " 4       1      0      0      1  ...         2         2         2          2\n",
              " ..    ...    ...    ...    ...  ...       ...       ...       ...        ...\n",
              " 84      1      0      0      1  ...         2         2         1          1\n",
              " 85      1      0      0      1  ...         2         2         1          2\n",
              " 86      1      0      0      1  ...         1         1         2          2\n",
              " 87      1      0      0      1  ...         1         2         1          1\n",
              " 88      1      0      0      1  ...         1         2         2          2\n",
              " \n",
              " [89 rows x 10001 columns],     STATUS\n",
              " 0        1\n",
              " 1        2\n",
              " 2        2\n",
              " 3        2\n",
              " 4        1\n",
              " ..     ...\n",
              " 84       2\n",
              " 85       2\n",
              " 86       1\n",
              " 87       1\n",
              " 88       2\n",
              " \n",
              " [89 rows x 1 columns])"
            ]
          },
          "metadata": {
            "tags": []
          },
          "execution_count": 3
        }
      ]
    },
    {
      "cell_type": "markdown",
      "metadata": {
        "id": "ptRUyFhnyo12"
      },
      "source": [
        "### Splitting the dataset into training and testing (80 20 respectively)."
      ]
    },
    {
      "cell_type": "code",
      "metadata": {
        "id": "F9Y5-UGAZxrn"
      },
      "source": [
        "X_train, X_test, y_train, y_test = train_test_split(X, y, test_size=0.2, random_state=13)"
      ],
      "execution_count": null,
      "outputs": []
    },
    {
      "cell_type": "code",
      "metadata": {
        "colab": {
          "base_uri": "https://localhost:8080/"
        },
        "id": "R0RNsqhZdltB",
        "outputId": "a624716f-ea9d-4304-ccc8-09200c923051"
      },
      "source": [
        "print('Training Data Shape: ', X_train.shape, y_train.shape)\n",
        "print('Testing Data Shape: ', X_test.shape, y_test.shape)"
      ],
      "execution_count": null,
      "outputs": [
        {
          "output_type": "stream",
          "text": [
            "Training Data Shape:  (71, 10001) (71, 1)\n",
            "Testing Data Shape:  (18, 10001) (18, 1)\n"
          ],
          "name": "stdout"
        }
      ]
    },
    {
      "cell_type": "markdown",
      "metadata": {
        "id": "B7njo-EfzLVh"
      },
      "source": [
        "### Checking the number of unique classes in the dataset. Here we can see there are a total of 2 unique classes, each having their own identity."
      ]
    },
    {
      "cell_type": "code",
      "metadata": {
        "colab": {
          "base_uri": "https://localhost:8080/"
        },
        "id": "hJwWntt3kt0W",
        "outputId": "e0f09cde-a7c9-4293-aefd-3f9c9009ec5e"
      },
      "source": [
        "uniqueClasses = np.unique(y_train)\n",
        "totalClasses = len(uniqueClasses)\n",
        "print('Number of Unique Classes: ', totalClasses)\n",
        "print('Classes: ', uniqueClasses)"
      ],
      "execution_count": null,
      "outputs": [
        {
          "output_type": "stream",
          "text": [
            "Number of Unique Classes:  2\n",
            "Classes:  [1 2]\n"
          ],
          "name": "stdout"
        }
      ]
    },
    {
      "cell_type": "markdown",
      "metadata": {
        "id": "tvAl9cwCzfM6"
      },
      "source": [
        "### Reshaping the dataset into just 1 dimension because we are going to use Conv1D layer because we working with a non-image dataset here."
      ]
    },
    {
      "cell_type": "code",
      "metadata": {
        "colab": {
          "base_uri": "https://localhost:8080/"
        },
        "id": "UorxeDzX77nA",
        "outputId": "a6035d77-3ffd-4b68-dfe6-28b0207858c1"
      },
      "source": [
        "X_train = X_train.values.reshape(-1, 10001, 1)\n",
        "X_test = X_test.values.reshape(-1, 10001, 1)\n",
        "X_train.shape, X_test.shape"
      ],
      "execution_count": null,
      "outputs": [
        {
          "output_type": "execute_result",
          "data": {
            "text/plain": [
              "((71, 10001, 1), (18, 10001, 1))"
            ]
          },
          "metadata": {
            "tags": []
          },
          "execution_count": 7
        }
      ]
    },
    {
      "cell_type": "markdown",
      "metadata": {
        "id": "US0cFhMPzu_5"
      },
      "source": [
        "### Right now the dataset is in the format of int8 so we have to convert it to float32 before feeding it into the model."
      ]
    },
    {
      "cell_type": "code",
      "metadata": {
        "id": "dnrN6tbAnXWM"
      },
      "source": [
        "X_train = X_train.astype('float32')\n",
        "X_test = X_test.astype('float32')"
      ],
      "execution_count": null,
      "outputs": []
    },
    {
      "cell_type": "markdown",
      "metadata": {
        "id": "H2IE_Affz5v7"
      },
      "source": [
        "### Next, we are going to one hot encode the y_train and y_test using the to_categorical function."
      ]
    },
    {
      "cell_type": "code",
      "metadata": {
        "colab": {
          "base_uri": "https://localhost:8080/"
        },
        "id": "lk4GjAQekxeb",
        "outputId": "22556f0d-ea01-45dc-8abc-18af6047fcd1"
      },
      "source": [
        "y_train = y_train - 1\n",
        "y_test = y_test - 1\n",
        "\n",
        "y_train_encoded = to_categorical(y_train, num_classes = 2)\n",
        "y_test_encoded = to_categorical(y_test, num_classes = 2)\n",
        "\n",
        "# Test Print\n",
        "y_test_encoded"
      ],
      "execution_count": null,
      "outputs": [
        {
          "output_type": "execute_result",
          "data": {
            "text/plain": [
              "array([[1., 0.],\n",
              "       [0., 1.],\n",
              "       [0., 1.],\n",
              "       [1., 0.],\n",
              "       [0., 1.],\n",
              "       [0., 1.],\n",
              "       [1., 0.],\n",
              "       [1., 0.],\n",
              "       [0., 1.],\n",
              "       [1., 0.],\n",
              "       [1., 0.],\n",
              "       [1., 0.],\n",
              "       [1., 0.],\n",
              "       [0., 1.],\n",
              "       [1., 0.],\n",
              "       [1., 0.],\n",
              "       [0., 1.],\n",
              "       [0., 1.]], dtype=float32)"
            ]
          },
          "metadata": {
            "tags": []
          },
          "execution_count": 9
        }
      ]
    },
    {
      "cell_type": "markdown",
      "metadata": {
        "id": "dfSdDHzo0aM4"
      },
      "source": [
        "### Now, we are going to split the training dataset into training and validation dataset. I have divided train and validation into 80 20 respectively."
      ]
    },
    {
      "cell_type": "code",
      "metadata": {
        "id": "jyO-2obEll6l"
      },
      "source": [
        "X_train, X_valid, train_label, valid_label = train_test_split(X_train, y_train_encoded, test_size=0.2, random_state=13)"
      ],
      "execution_count": null,
      "outputs": []
    },
    {
      "cell_type": "code",
      "metadata": {
        "colab": {
          "base_uri": "https://localhost:8080/"
        },
        "id": "ZwaCHslblpOl",
        "outputId": "3c21aa14-2b4e-4510-8cfe-f9c9668ff81d"
      },
      "source": [
        "X_train.shape, X_valid.shape, train_label.shape, valid_label.shape"
      ],
      "execution_count": null,
      "outputs": [
        {
          "output_type": "execute_result",
          "data": {
            "text/plain": [
              "((56, 10001, 1), (15, 10001, 1), (56, 2), (15, 2))"
            ]
          },
          "metadata": {
            "tags": []
          },
          "execution_count": 11
        }
      ]
    },
    {
      "cell_type": "markdown",
      "metadata": {
        "id": "YRVkufKy0iBY"
      },
      "source": [
        "### This will be the part where modelling the data starts. I have used the batch size of 64 and 20 epochs."
      ]
    },
    {
      "cell_type": "code",
      "metadata": {
        "id": "x07pqaYWluNp"
      },
      "source": [
        "batch_size = 64\n",
        "epochs = 20"
      ],
      "execution_count": null,
      "outputs": []
    },
    {
      "cell_type": "markdown",
      "metadata": {
        "id": "n-rha58A0tT1"
      },
      "source": [
        "### First we add our first convolutional layer using Conv1D. We are using Conv2D here because we are dealing with non-image dataset. Next we add the LeakyReLU because it's going to help the network learn non-linear decision boundary. Next would be the MaxPooling1D layer and then the last layer would be the Dense layer using the softmax function. After that would be the Dropout layer which helps us avoiding the problem of overfitting. "
      ]
    },
    {
      "cell_type": "code",
      "metadata": {
        "id": "hAMOfObBu2kK"
      },
      "source": [
        "dna_model = Sequential()\n",
        "dna_model.add(Conv1D(64, kernel_size=3, activation='linear', input_shape=(10001, 1), padding='same'))\n",
        "dna_model.add(MaxPooling1D(2, padding='same'))\n",
        "dna_model.add(Dropout(0.4))\n",
        "dna_model.add(Flatten())\n",
        "dna_model.add(Dense(32, activation='linear'))\n",
        "dna_model.add(LeakyReLU(alpha=0.1))\n",
        "dna_model.add(Dropout(0.3))\n",
        "dna_model.add(Dense(2, activation='softmax'))"
      ],
      "execution_count": null,
      "outputs": []
    },
    {
      "cell_type": "markdown",
      "metadata": {
        "id": "bklJXhMf0_td"
      },
      "source": [
        "### Now we are going to compile our model that we just made using Adam Optimizer as the optimizer and Categorical CrossEntropy as the loss function which is often used as a loss function for multi-class classification."
      ]
    },
    {
      "cell_type": "code",
      "metadata": {
        "id": "4yxYpw6Al-P0"
      },
      "source": [
        "dna_model.compile(loss=keras.losses.categorical_crossentropy, optimizer=keras.optimizers.Adam(learning_rate=0.01), metrics=['accuracy'])"
      ],
      "execution_count": null,
      "outputs": []
    },
    {
      "cell_type": "code",
      "metadata": {
        "colab": {
          "base_uri": "https://localhost:8080/"
        },
        "id": "7GJY4fYjmpy8",
        "outputId": "46f0382a-9694-4276-94fd-4d2995725c4f"
      },
      "source": [
        "dna_model.summary()"
      ],
      "execution_count": null,
      "outputs": [
        {
          "output_type": "stream",
          "text": [
            "Model: \"sequential_3\"\n",
            "_________________________________________________________________\n",
            "Layer (type)                 Output Shape              Param #   \n",
            "=================================================================\n",
            "conv1d_7 (Conv1D)            (None, 10001, 64)         256       \n",
            "_________________________________________________________________\n",
            "max_pooling1d_7 (MaxPooling1 (None, 5001, 64)          0         \n",
            "_________________________________________________________________\n",
            "dropout_10 (Dropout)         (None, 5001, 64)          0         \n",
            "_________________________________________________________________\n",
            "flatten_3 (Flatten)          (None, 320064)            0         \n",
            "_________________________________________________________________\n",
            "dense_6 (Dense)              (None, 32)                10242080  \n",
            "_________________________________________________________________\n",
            "leaky_re_lu_10 (LeakyReLU)   (None, 32)                0         \n",
            "_________________________________________________________________\n",
            "dropout_11 (Dropout)         (None, 32)                0         \n",
            "_________________________________________________________________\n",
            "dense_7 (Dense)              (None, 2)                 66        \n",
            "=================================================================\n",
            "Total params: 10,242,402\n",
            "Trainable params: 10,242,402\n",
            "Non-trainable params: 0\n",
            "_________________________________________________________________\n"
          ],
          "name": "stdout"
        }
      ]
    },
    {
      "cell_type": "markdown",
      "metadata": {
        "id": "bFe7XyUS1E5n"
      },
      "source": [
        "### Now we fit the model."
      ]
    },
    {
      "cell_type": "code",
      "metadata": {
        "colab": {
          "base_uri": "https://localhost:8080/"
        },
        "id": "szZQJefNmxdz",
        "outputId": "3314655c-c99b-4243-921d-60e4b192797d"
      },
      "source": [
        "dna_train = dna_model.fit(X_train, train_label, batch_size=batch_size, epochs=epochs, verbose=1, validation_data=(X_valid, valid_label))"
      ],
      "execution_count": null,
      "outputs": [
        {
          "output_type": "stream",
          "text": [
            "Epoch 1/20\n",
            "1/1 [==============================] - 2s 2s/step - loss: 0.7650 - accuracy: 0.4107 - val_loss: 1091.3538 - val_accuracy: 0.6000\n",
            "Epoch 2/20\n",
            "1/1 [==============================] - 1s 722ms/step - loss: 1248.6699 - accuracy: 0.5179 - val_loss: 170.5541 - val_accuracy: 0.6000\n",
            "Epoch 3/20\n",
            "1/1 [==============================] - 1s 729ms/step - loss: 204.9931 - accuracy: 0.5179 - val_loss: 171.6769 - val_accuracy: 0.4000\n",
            "Epoch 4/20\n",
            "1/1 [==============================] - 1s 708ms/step - loss: 149.0246 - accuracy: 0.4821 - val_loss: 138.8778 - val_accuracy: 0.4000\n",
            "Epoch 5/20\n",
            "1/1 [==============================] - 1s 716ms/step - loss: 117.7964 - accuracy: 0.4821 - val_loss: 59.5971 - val_accuracy: 0.4000\n",
            "Epoch 6/20\n",
            "1/1 [==============================] - 1s 724ms/step - loss: 47.8631 - accuracy: 0.4821 - val_loss: 5.0656 - val_accuracy: 0.6000\n",
            "Epoch 7/20\n",
            "1/1 [==============================] - 1s 731ms/step - loss: 14.6708 - accuracy: 0.3929 - val_loss: 63.6727 - val_accuracy: 0.6000\n",
            "Epoch 8/20\n",
            "1/1 [==============================] - 1s 717ms/step - loss: 62.1324 - accuracy: 0.5179 - val_loss: 39.0383 - val_accuracy: 0.6000\n",
            "Epoch 9/20\n",
            "1/1 [==============================] - 1s 714ms/step - loss: 37.2185 - accuracy: 0.5179 - val_loss: 17.1981 - val_accuracy: 0.6000\n",
            "Epoch 10/20\n",
            "1/1 [==============================] - 1s 723ms/step - loss: 16.4670 - accuracy: 0.5893 - val_loss: 4.3821 - val_accuracy: 0.4000\n",
            "Epoch 11/20\n",
            "1/1 [==============================] - 1s 709ms/step - loss: 9.3888 - accuracy: 0.6250 - val_loss: 23.8444 - val_accuracy: 0.4000\n",
            "Epoch 12/20\n",
            "1/1 [==============================] - 1s 749ms/step - loss: 17.1564 - accuracy: 0.5179 - val_loss: 29.7799 - val_accuracy: 0.4000\n",
            "Epoch 13/20\n",
            "1/1 [==============================] - 1s 706ms/step - loss: 24.9086 - accuracy: 0.4643 - val_loss: 24.0133 - val_accuracy: 0.4000\n",
            "Epoch 14/20\n",
            "1/1 [==============================] - 1s 701ms/step - loss: 17.6432 - accuracy: 0.5357 - val_loss: 9.8531 - val_accuracy: 0.4000\n",
            "Epoch 15/20\n",
            "1/1 [==============================] - 1s 731ms/step - loss: 6.9226 - accuracy: 0.6964 - val_loss: 3.4346 - val_accuracy: 0.6000\n",
            "Epoch 16/20\n",
            "1/1 [==============================] - 1s 693ms/step - loss: 8.0146 - accuracy: 0.5536 - val_loss: 10.8905 - val_accuracy: 0.6000\n",
            "Epoch 17/20\n",
            "1/1 [==============================] - 1s 719ms/step - loss: 10.0906 - accuracy: 0.5893 - val_loss: 19.1122 - val_accuracy: 0.6000\n",
            "Epoch 18/20\n",
            "1/1 [==============================] - 1s 712ms/step - loss: 15.4340 - accuracy: 0.5179 - val_loss: 3.8789 - val_accuracy: 0.3333\n",
            "Epoch 19/20\n",
            "1/1 [==============================] - 1s 706ms/step - loss: 4.2405 - accuracy: 0.7321 - val_loss: 14.4478 - val_accuracy: 0.4000\n",
            "Epoch 20/20\n",
            "1/1 [==============================] - 1s 717ms/step - loss: 9.8809 - accuracy: 0.5714 - val_loss: 2.0446 - val_accuracy: 0.4667\n"
          ],
          "name": "stdout"
        }
      ]
    },
    {
      "cell_type": "markdown",
      "metadata": {
        "id": "rMBB8aA91M13"
      },
      "source": [
        "### We evaluate the model to see how our model works on the testing dataset. The results that I've got is quite bad. The total loss is 1.5285 and the testing accuracy of 0.6111."
      ]
    },
    {
      "cell_type": "code",
      "metadata": {
        "colab": {
          "base_uri": "https://localhost:8080/"
        },
        "id": "D6ZzdrFGTNtI",
        "outputId": "8ed03e4c-85ab-452f-a177-2205b52ea68d"
      },
      "source": [
        "evaluation = dna_model.evaluate(X_test, y_test_encoded, verbose=1)"
      ],
      "execution_count": null,
      "outputs": [
        {
          "output_type": "stream",
          "text": [
            "1/1 [==============================] - 0s 59ms/step - loss: 1.5285 - accuracy: 0.6111\n"
          ],
          "name": "stdout"
        }
      ]
    },
    {
      "cell_type": "code",
      "metadata": {
        "colab": {
          "base_uri": "https://localhost:8080/"
        },
        "id": "E8juRzr1VeJG",
        "outputId": "f1098386-d860-41ac-e57f-4ecd95e3818b"
      },
      "source": [
        "print('Test Loss: ', evaluation[0])\n",
        "print('Test Accuracy: ', evaluation[1])"
      ],
      "execution_count": null,
      "outputs": [
        {
          "output_type": "stream",
          "text": [
            "Test Loss:  1.5284786224365234\n",
            "Test Accuracy:  0.6111111044883728\n"
          ],
          "name": "stdout"
        }
      ]
    },
    {
      "cell_type": "markdown",
      "metadata": {
        "id": "HmmlYti21axL"
      },
      "source": [
        "### Now let's plot the loss and accuracy plots for training and validation to see the results visually."
      ]
    },
    {
      "cell_type": "code",
      "metadata": {
        "colab": {
          "base_uri": "https://localhost:8080/",
          "height": 545
        },
        "id": "Ku10WCgvVi6Q",
        "outputId": "fb58ed06-59be-465c-8d2d-7634d7228996"
      },
      "source": [
        "accuracy = dna_train.history['accuracy']\n",
        "val_accuracy = dna_train.history['val_accuracy']\n",
        "loss = dna_train.history['loss']\n",
        "val_loss = dna_train.history['val_loss']\n",
        "\n",
        "epochs = range(len(accuracy))\n",
        "plt.plot(epochs, accuracy, 'bo', label='Training Accuracy')\n",
        "plt.plot(epochs, val_accuracy, 'b', label='Validation Accuracy')\n",
        "plt.title('Training & Validation Accuracy')\n",
        "plt.legend()\n",
        "plt.figure()\n",
        "plt.plot(epochs, loss, 'bo', label='Training Loss')\n",
        "plt.plot(epochs, val_loss, 'b', label='Validation Loss')\n",
        "plt.title('Training & Validation Loss')\n",
        "plt.legend()\n",
        "plt.show()"
      ],
      "execution_count": null,
      "outputs": [
        {
          "output_type": "display_data",
          "data": {
            "image/png": "[encoded data removed]",
            "text/plain": [
              "<Figure size 432x288 with 1 Axes>"
            ]
          },
          "metadata": {
            "tags": [],
            "needs_background": "light"
          }
        },
        {
          "output_type": "display_data",
          "data": {
            "image/png": "[encoded data removed]",
            "text/plain": [
              "<Figure size 432x288 with 1 Axes>"
            ]
          },
          "metadata": {
            "tags": [],
            "needs_background": "light"
          }
        }
      ]
    }
  ]
}