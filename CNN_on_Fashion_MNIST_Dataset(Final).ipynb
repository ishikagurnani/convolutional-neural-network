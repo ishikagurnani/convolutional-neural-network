{
  "nbformat": 4,
  "nbformat_minor": 0,
  "metadata": {
    "colab": {
      "name": "CNN_on_Fashion_MNIST_Dataset(Final).ipynb",
      "provenance": []
    },
    "kernelspec": {
      "name": "python3",
      "display_name": "Python 3"
    },
    "language_info": {
      "name": "python"
    }
  },
  "cells": [
    {
      "cell_type": "markdown",
      "metadata": {
        "id": "kRRe1Nq-74TR"
      },
      "source": [
        "### Import the Fashion MNIST Dataset using the library from Keras called datasets."
      ]
    },
    {
      "cell_type": "code",
      "metadata": {
        "id": "27iM5MMm6r7C"
      },
      "source": [
        "from keras.datasets import fashion_mnist"
      ],
      "execution_count": null,
      "outputs": []
    },
    {
      "cell_type": "markdown",
      "metadata": {
        "id": "UlHg_KEs8v7g"
      },
      "source": [
        "### Loading the dataset and splitting them into training and testing."
      ]
    },
    {
      "cell_type": "code",
      "metadata": {
        "colab": {
          "base_uri": "https://localhost:8080/"
        },
        "id": "qsujAwyb719V",
        "outputId": "a8faa051-3527-4cf2-a133-1933a2f5aa8f"
      },
      "source": [
        "(X_train, y_train), (X_test, y_test) = fashion_mnist.load_data()"
      ],
      "execution_count": null,
      "outputs": [
        {
          "output_type": "stream",
          "text": [
            "Downloading data from https://storage.googleapis.com/tensorflow/tf-keras-datasets/train-labels-idx1-ubyte.gz\n",
            "32768/29515 [=================================] - 0s 0us/step\n",
            "40960/29515 [=========================================] - 0s 0us/step\n",
            "Downloading data from https://storage.googleapis.com/tensorflow/tf-keras-datasets/train-images-idx3-ubyte.gz\n",
            "26427392/26421880 [==============================] - 0s 0us/step\n",
            "26435584/26421880 [==============================] - 0s 0us/step\n",
            "Downloading data from https://storage.googleapis.com/tensorflow/tf-keras-datasets/t10k-labels-idx1-ubyte.gz\n",
            "16384/5148 [===============================================================================================] - 0s 0us/step\n",
            "Downloading data from https://storage.googleapis.com/tensorflow/tf-keras-datasets/t10k-images-idx3-ubyte.gz\n",
            "4423680/4422102 [==============================] - 0s 0us/step\n",
            "4431872/4422102 [==============================] - 0s 0us/step\n"
          ],
          "name": "stdout"
        }
      ]
    },
    {
      "cell_type": "code",
      "metadata": {
        "id": "eB7wYW_48-rg"
      },
      "source": [
        "import numpy as np\n",
        "from tensorflow.keras.utils import to_categorical\n",
        "import matplotlib.pyplot as plt"
      ],
      "execution_count": null,
      "outputs": []
    },
    {
      "cell_type": "markdown",
      "metadata": {
        "id": "XEIT7MId-ONe"
      },
      "source": [
        "### Checking the shape of the data we just splitted above."
      ]
    },
    {
      "cell_type": "code",
      "metadata": {
        "colab": {
          "base_uri": "https://localhost:8080/"
        },
        "id": "t-mHsaYS9pcN",
        "outputId": "eea55b7c-2fdf-4ffa-9001-298661c95f48"
      },
      "source": [
        "print('Training Data Shape: ', X_train.shape, y_train.shape)\n",
        "print('Testing Data Shape: ', X_test.shape, y_test.shape)"
      ],
      "execution_count": null,
      "outputs": [
        {
          "output_type": "stream",
          "text": [
            "Training Data Shape:  (60000, 28, 28) (60000,)\n",
            "Testing Data Shape:  (10000, 28, 28) (10000,)\n"
          ],
          "name": "stdout"
        }
      ]
    },
    {
      "cell_type": "markdown",
      "metadata": {
        "id": "nz4HpsmnqYHz"
      },
      "source": [
        "### Checking the number of unique classes in the dataset. Here we can see there are a total of 10 unique classes, each having their own identity."
      ]
    },
    {
      "cell_type": "code",
      "metadata": {
        "colab": {
          "base_uri": "https://localhost:8080/"
        },
        "id": "anZAA4Mq-JCr",
        "outputId": "5e930fc5-4373-415e-b745-7fe837c7228a"
      },
      "source": [
        "uniqueClasses = np.unique(y_train)\n",
        "totalClasses = len(uniqueClasses)\n",
        "print('Number of Unique Classes: ', totalClasses)\n",
        "print('Classes: ', uniqueClasses)"
      ],
      "execution_count": null,
      "outputs": [
        {
          "output_type": "stream",
          "text": [
            "Number of Unique Classes:  10\n",
            "Classes:  [0 1 2 3 4 5 6 7 8 9]\n"
          ],
          "name": "stdout"
        }
      ]
    },
    {
      "cell_type": "markdown",
      "metadata": {
        "id": "tBV3miDXquWX"
      },
      "source": [
        "### Plotting one image from training dataset and one image from testing dataset."
      ]
    },
    {
      "cell_type": "code",
      "metadata": {
        "colab": {
          "base_uri": "https://localhost:8080/",
          "height": 208
        },
        "id": "zdmJMGUc-1Fa",
        "outputId": "4e073845-68f2-42e9-a6f6-413b4c1f7720"
      },
      "source": [
        "plt.figure(figsize=[5, 5])\n",
        "\n",
        "plt.subplot(121)\n",
        "plt.imshow(X_train[0, :, :], cmap='gray')\n",
        "plt.title(\"Class: {}\".format(y_train[0]))\n",
        "\n",
        "plt.subplot(122)\n",
        "plt.imshow(X_test[0, :, :], cmap='gray')\n",
        "plt.title(\"Class: {}\".format(y_test[0]))"
      ],
      "execution_count": null,
      "outputs": [
        {
          "output_type": "execute_result",
          "data": {
            "text/plain": [
              "Text(0.5, 1.0, 'Class: 9')"
            ]
          },
          "metadata": {
            "tags": []
          },
          "execution_count": 10
        },
        {
          "output_type": "display_data",
          "data": {
            "image/png": "[encoded data removed]",
            "text/plain": [
              "<Figure size 360x360 with 2 Axes>"
            ]
          },
          "metadata": {
            "tags": [],
            "needs_background": "light"
          }
        }
      ]
    },
    {
      "cell_type": "markdown",
      "metadata": {
        "id": "hd3nSnq1rEnF"
      },
      "source": [
        "### Reshaping the dataset into 2 dimensions because we are going to use Conv2D layer which needs a 4 dimension input shape."
      ]
    },
    {
      "cell_type": "code",
      "metadata": {
        "colab": {
          "base_uri": "https://localhost:8080/"
        },
        "id": "HnthMmxAAEGl",
        "outputId": "b134386e-d82f-46d5-e99b-59f7c7699254"
      },
      "source": [
        "X_train = X_train.reshape(-1, 28, 28, 1)\n",
        "X_test = X_test.reshape(-1, 28, 28, 1)\n",
        "X_train.shape, X_test.shape"
      ],
      "execution_count": null,
      "outputs": [
        {
          "output_type": "execute_result",
          "data": {
            "text/plain": [
              "((60000, 28, 28, 1), (10000, 28, 28, 1))"
            ]
          },
          "metadata": {
            "tags": []
          },
          "execution_count": 11
        }
      ]
    },
    {
      "cell_type": "markdown",
      "metadata": {
        "id": "RgajRyVBrQIv"
      },
      "source": [
        "### Right now the dataset is in the format of int8 so we have to convert it to float32 before feeding it into the model. After that we are going to scale the value from 0 - 1 by dividing by 255."
      ]
    },
    {
      "cell_type": "code",
      "metadata": {
        "id": "pqGl5LraAk15"
      },
      "source": [
        "X_train = X_train.astype('float32')\n",
        "X_test = X_test.astype('float32')\n",
        "X_train = X_train / 255\n",
        "X_test = X_test / 255"
      ],
      "execution_count": null,
      "outputs": []
    },
    {
      "cell_type": "markdown",
      "metadata": {
        "id": "zo4Ux0yisKBe"
      },
      "source": [
        "### Next, we are going to one hot encode the y_train and y_test using the to_categorical function."
      ]
    },
    {
      "cell_type": "code",
      "metadata": {
        "colab": {
          "base_uri": "https://localhost:8080/"
        },
        "id": "TXGjvFqpA2Ws",
        "outputId": "e26a705e-f77b-4fd3-ce36-c83006633a05"
      },
      "source": [
        "y_train_encoded = to_categorical(y_train)\n",
        "y_test_encoded = to_categorical(y_test)\n",
        "\n",
        "# Test Print\n",
        "y_test_encoded"
      ],
      "execution_count": null,
      "outputs": [
        {
          "output_type": "execute_result",
          "data": {
            "text/plain": [
              "array([[0., 0., 0., ..., 0., 0., 1.],\n",
              "       [0., 0., 1., ..., 0., 0., 0.],\n",
              "       [0., 1., 0., ..., 0., 0., 0.],\n",
              "       ...,\n",
              "       [0., 0., 0., ..., 0., 1., 0.],\n",
              "       [0., 1., 0., ..., 0., 0., 0.],\n",
              "       [0., 0., 0., ..., 0., 0., 0.]], dtype=float32)"
            ]
          },
          "metadata": {
            "tags": []
          },
          "execution_count": 13
        }
      ]
    },
    {
      "cell_type": "code",
      "metadata": {
        "id": "2jKqemw4BUlu"
      },
      "source": [
        "from sklearn.model_selection import train_test_split"
      ],
      "execution_count": null,
      "outputs": []
    },
    {
      "cell_type": "markdown",
      "metadata": {
        "id": "zzyJOvFEsYRp"
      },
      "source": [
        "### Now, we are going to split the training dataset into training and validation dataset. I have divided train and validation into 80 20 respectively."
      ]
    },
    {
      "cell_type": "code",
      "metadata": {
        "id": "b3xDg577Bf5Z"
      },
      "source": [
        "X_train, X_valid, train_label, valid_label = train_test_split(X_train, y_train_encoded, test_size=0.2, random_state=13)"
      ],
      "execution_count": null,
      "outputs": []
    },
    {
      "cell_type": "code",
      "metadata": {
        "colab": {
          "base_uri": "https://localhost:8080/"
        },
        "id": "5F7mSNYnB_Ff",
        "outputId": "a4b443ee-2ffc-4c9f-9003-63d1b65066c6"
      },
      "source": [
        "X_train.shape, X_valid.shape, train_label.shape, valid_label.shape"
      ],
      "execution_count": null,
      "outputs": [
        {
          "output_type": "execute_result",
          "data": {
            "text/plain": [
              "((48000, 28, 28, 1), (12000, 28, 28, 1), (48000, 10), (12000, 10))"
            ]
          },
          "metadata": {
            "tags": []
          },
          "execution_count": 16
        }
      ]
    },
    {
      "cell_type": "markdown",
      "metadata": {
        "id": "to-tpzxJs2jx"
      },
      "source": [
        "### This will be the part where modelling the data starts. I have used the batch size of 64 and 20 epochs. n_classes are the total number of outputs which are 10 (0 - 9)."
      ]
    },
    {
      "cell_type": "code",
      "metadata": {
        "id": "pc7Hr8M6CfDv"
      },
      "source": [
        "import keras\n",
        "from keras.models import Sequential, Input, Model\n",
        "from keras.layers import Dense, Dropout, Flatten\n",
        "from keras.layers import Conv2D, MaxPooling2D\n",
        "from keras.layers.normalization import BatchNormalization\n",
        "from keras.layers.advanced_activations import LeakyReLU"
      ],
      "execution_count": null,
      "outputs": []
    },
    {
      "cell_type": "code",
      "metadata": {
        "id": "ryyyfHIeDDzk"
      },
      "source": [
        "batch_size = 64\n",
        "epochs = 20\n",
        "n_classes = 10"
      ],
      "execution_count": null,
      "outputs": []
    },
    {
      "cell_type": "markdown",
      "metadata": {
        "id": "d8E69uf1tWEv"
      },
      "source": [
        "### First we add our first convolutional layer using Conv2D. We are using Conv2D here because we are dealing with images. Next we add the LeakyReLU because it's going to help the network learn non-linear decision boundary. Next would be the MaxPooling2D layer and then the last layer would be the Dense layer using the softmax function. After that would be the Dropout layer which helps us avoiding the problem of overfitting. "
      ]
    },
    {
      "cell_type": "code",
      "metadata": {
        "id": "wvItcEa5DMNP"
      },
      "source": [
        "fashion_model = Sequential()\n",
        "fashion_model.add(Conv2D(32, kernel_size=(3, 3), activation='linear', input_shape=(28, 28, 1), padding='same'))\n",
        "fashion_model.add(LeakyReLU(alpha=0.1))\n",
        "fashion_model.add(MaxPooling2D((2, 2), padding='same'))\n",
        "fashion_model.add(Dropout(0.25))\n",
        "fashion_model.add(Conv2D(64, kernel_size=(3, 3), activation='linear', padding='same'))\n",
        "fashion_model.add(LeakyReLU(alpha=0.1))\n",
        "fashion_model.add(MaxPooling2D((2, 2), padding='same'))\n",
        "fashion_model.add(Dropout(0.25))\n",
        "fashion_model.add(Conv2D(128, kernel_size=(3, 3), activation='linear', padding='same'))\n",
        "fashion_model.add(LeakyReLU(alpha=0.1))\n",
        "fashion_model.add(MaxPooling2D((2, 2), padding='same'))\n",
        "fashion_model.add(Dropout(0.4))\n",
        "fashion_model.add(Flatten())\n",
        "fashion_model.add(Dense(128, activation='linear'))\n",
        "fashion_model.add(LeakyReLU(alpha=0.1))\n",
        "fashion_model.add(Dropout(0.3))\n",
        "fashion_model.add(Dense(n_classes, activation='softmax'))"
      ],
      "execution_count": null,
      "outputs": []
    },
    {
      "cell_type": "markdown",
      "metadata": {
        "id": "oF_FPkYOuSac"
      },
      "source": [
        "### Now we are going to compile our model that we just made using Adam Optimizer as the optimizer and Categorical CrossEntropy as the loss function which is often used as a loss function for multi-class classification."
      ]
    },
    {
      "cell_type": "code",
      "metadata": {
        "id": "L9KS2iNvFK4T"
      },
      "source": [
        "fashion_model.compile(loss=keras.losses.categorical_crossentropy, optimizer=keras.optimizers.Adam(), metrics=['accuracy'])"
      ],
      "execution_count": null,
      "outputs": []
    },
    {
      "cell_type": "code",
      "metadata": {
        "colab": {
          "base_uri": "https://localhost:8080/"
        },
        "id": "odnFKhA1Fi_g",
        "outputId": "bdbe4ac4-ee91-4abc-d676-bd908b8f7c3f"
      },
      "source": [
        "fashion_model.summary()"
      ],
      "execution_count": null,
      "outputs": [
        {
          "output_type": "stream",
          "text": [
            "Model: \"sequential_1\"\n",
            "_________________________________________________________________\n",
            "Layer (type)                 Output Shape              Param #   \n",
            "=================================================================\n",
            "conv2d_3 (Conv2D)            (None, 28, 28, 32)        320       \n",
            "_________________________________________________________________\n",
            "leaky_re_lu_4 (LeakyReLU)    (None, 28, 28, 32)        0         \n",
            "_________________________________________________________________\n",
            "max_pooling2d_3 (MaxPooling2 (None, 14, 14, 32)        0         \n",
            "_________________________________________________________________\n",
            "dropout (Dropout)            (None, 14, 14, 32)        0         \n",
            "_________________________________________________________________\n",
            "conv2d_4 (Conv2D)            (None, 14, 14, 64)        18496     \n",
            "_________________________________________________________________\n",
            "leaky_re_lu_5 (LeakyReLU)    (None, 14, 14, 64)        0         \n",
            "_________________________________________________________________\n",
            "max_pooling2d_4 (MaxPooling2 (None, 7, 7, 64)          0         \n",
            "_________________________________________________________________\n",
            "dropout_1 (Dropout)          (None, 7, 7, 64)          0         \n",
            "_________________________________________________________________\n",
            "conv2d_5 (Conv2D)            (None, 7, 7, 128)         73856     \n",
            "_________________________________________________________________\n",
            "leaky_re_lu_6 (LeakyReLU)    (None, 7, 7, 128)         0         \n",
            "_________________________________________________________________\n",
            "max_pooling2d_5 (MaxPooling2 (None, 4, 4, 128)         0         \n",
            "_________________________________________________________________\n",
            "dropout_2 (Dropout)          (None, 4, 4, 128)         0         \n",
            "_________________________________________________________________\n",
            "flatten_1 (Flatten)          (None, 2048)              0         \n",
            "_________________________________________________________________\n",
            "dense_2 (Dense)              (None, 128)               262272    \n",
            "_________________________________________________________________\n",
            "leaky_re_lu_7 (LeakyReLU)    (None, 128)               0         \n",
            "_________________________________________________________________\n",
            "dropout_3 (Dropout)          (None, 128)               0         \n",
            "_________________________________________________________________\n",
            "dense_3 (Dense)              (None, 10)                1290      \n",
            "=================================================================\n",
            "Total params: 356,234\n",
            "Trainable params: 356,234\n",
            "Non-trainable params: 0\n",
            "_________________________________________________________________\n"
          ],
          "name": "stdout"
        }
      ]
    },
    {
      "cell_type": "markdown",
      "metadata": {
        "id": "j9qg1PLKuwXx"
      },
      "source": [
        "### Now we fit the model."
      ]
    },
    {
      "cell_type": "code",
      "metadata": {
        "colab": {
          "base_uri": "https://localhost:8080/"
        },
        "id": "s2Y5-0CDO267",
        "outputId": "9d81d4e7-7bb4-408a-b5e3-693da988bafc"
      },
      "source": [
        "fashion_train_dropout = fashion_model.fit(X_train, train_label, batch_size=batch_size, epochs=epochs, verbose=1, validation_data=(X_valid, valid_label))"
      ],
      "execution_count": null,
      "outputs": [
        {
          "output_type": "stream",
          "text": [
            "Epoch 1/20\n",
            "750/750 [==============================] - 69s 90ms/step - loss: 0.8479 - accuracy: 0.6843 - val_loss: 0.3688 - val_accuracy: 0.8692\n",
            "Epoch 2/20\n",
            "750/750 [==============================] - 68s 90ms/step - loss: 0.3942 - accuracy: 0.8532 - val_loss: 0.3090 - val_accuracy: 0.8868\n",
            "Epoch 3/20\n",
            "750/750 [==============================] - 67s 90ms/step - loss: 0.3322 - accuracy: 0.8802 - val_loss: 0.2816 - val_accuracy: 0.8965\n",
            "Epoch 4/20\n",
            "750/750 [==============================] - 67s 90ms/step - loss: 0.3107 - accuracy: 0.8836 - val_loss: 0.2666 - val_accuracy: 0.8994\n",
            "Epoch 5/20\n",
            "750/750 [==============================] - 67s 90ms/step - loss: 0.2836 - accuracy: 0.8947 - val_loss: 0.2575 - val_accuracy: 0.9047\n",
            "Epoch 6/20\n",
            "750/750 [==============================] - 67s 89ms/step - loss: 0.2712 - accuracy: 0.8988 - val_loss: 0.2640 - val_accuracy: 0.9018\n",
            "Epoch 7/20\n",
            "750/750 [==============================] - 68s 91ms/step - loss: 0.2577 - accuracy: 0.9036 - val_loss: 0.2344 - val_accuracy: 0.9138\n",
            "Epoch 8/20\n",
            "750/750 [==============================] - 68s 90ms/step - loss: 0.2500 - accuracy: 0.9061 - val_loss: 0.2328 - val_accuracy: 0.9141\n",
            "Epoch 9/20\n",
            "750/750 [==============================] - 68s 90ms/step - loss: 0.2492 - accuracy: 0.9069 - val_loss: 0.2384 - val_accuracy: 0.9148\n",
            "Epoch 10/20\n",
            "750/750 [==============================] - 68s 91ms/step - loss: 0.2342 - accuracy: 0.9104 - val_loss: 0.2618 - val_accuracy: 0.9069\n",
            "Epoch 11/20\n",
            "750/750 [==============================] - 68s 90ms/step - loss: 0.2273 - accuracy: 0.9158 - val_loss: 0.2279 - val_accuracy: 0.9168\n",
            "Epoch 12/20\n",
            "750/750 [==============================] - 68s 91ms/step - loss: 0.2189 - accuracy: 0.9169 - val_loss: 0.2235 - val_accuracy: 0.9206\n",
            "Epoch 13/20\n",
            "750/750 [==============================] - 68s 90ms/step - loss: 0.2191 - accuracy: 0.9179 - val_loss: 0.2247 - val_accuracy: 0.9182\n",
            "Epoch 14/20\n",
            "750/750 [==============================] - 68s 91ms/step - loss: 0.2115 - accuracy: 0.9200 - val_loss: 0.2176 - val_accuracy: 0.9229\n",
            "Epoch 15/20\n",
            "750/750 [==============================] - 68s 90ms/step - loss: 0.2011 - accuracy: 0.9257 - val_loss: 0.2203 - val_accuracy: 0.9204\n",
            "Epoch 16/20\n",
            "750/750 [==============================] - 67s 89ms/step - loss: 0.2062 - accuracy: 0.9219 - val_loss: 0.2136 - val_accuracy: 0.9243\n",
            "Epoch 17/20\n",
            "750/750 [==============================] - 67s 89ms/step - loss: 0.2044 - accuracy: 0.9218 - val_loss: 0.2152 - val_accuracy: 0.9240\n",
            "Epoch 18/20\n",
            "750/750 [==============================] - 66s 89ms/step - loss: 0.2000 - accuracy: 0.9261 - val_loss: 0.2184 - val_accuracy: 0.9247\n",
            "Epoch 19/20\n",
            "750/750 [==============================] - 67s 89ms/step - loss: 0.1983 - accuracy: 0.9243 - val_loss: 0.2123 - val_accuracy: 0.9264\n",
            "Epoch 20/20\n",
            "750/750 [==============================] - 67s 89ms/step - loss: 0.1933 - accuracy: 0.9264 - val_loss: 0.2168 - val_accuracy: 0.9238\n"
          ],
          "name": "stdout"
        }
      ]
    },
    {
      "cell_type": "code",
      "metadata": {
        "colab": {
          "base_uri": "https://localhost:8080/"
        },
        "id": "pOdrwCkhUGHf",
        "outputId": "2d2168b3-8b99-472a-f72c-251062f30e9d"
      },
      "source": [
        "fashion_model.save(\"fashion_model_dropout.h5py\")"
      ],
      "execution_count": null,
      "outputs": [
        {
          "output_type": "stream",
          "text": [
            "INFO:tensorflow:Assets written to: fashion_model_dropout.h5py/assets\n"
          ],
          "name": "stdout"
        }
      ]
    },
    {
      "cell_type": "markdown",
      "metadata": {
        "id": "g_HI2uccvdzV"
      },
      "source": [
        "### We evaluate the model to see how our model works on the testing dataset. The results that I've got is quite impressive. The total loss is 0.2238 and the accuracy of 0.9195 (almost 92%)."
      ]
    },
    {
      "cell_type": "code",
      "metadata": {
        "colab": {
          "base_uri": "https://localhost:8080/"
        },
        "id": "wy0rUMFNUmGF",
        "outputId": "a34fbbf9-75ec-4926-f6d5-6cc34d67198b"
      },
      "source": [
        "evaluation = fashion_model.evaluate(X_test, y_test_encoded, verbose=1)"
      ],
      "execution_count": null,
      "outputs": [
        {
          "output_type": "stream",
          "text": [
            "313/313 [==============================] - 4s 14ms/step - loss: 0.2238 - accuracy: 0.9195\n"
          ],
          "name": "stdout"
        }
      ]
    },
    {
      "cell_type": "code",
      "metadata": {
        "colab": {
          "base_uri": "https://localhost:8080/"
        },
        "id": "fx4MHp3hU8tC",
        "outputId": "65adb536-b9fd-4696-9d65-c2598e54abc8"
      },
      "source": [
        "print('Test Loss: ', evaluation[0])\n",
        "print('Test Accuracy: ', evaluation[1])"
      ],
      "execution_count": null,
      "outputs": [
        {
          "output_type": "stream",
          "text": [
            "Test Loss:  0.22383537888526917\n",
            "Test Accuracy:  0.9194999933242798\n"
          ],
          "name": "stdout"
        }
      ]
    },
    {
      "cell_type": "markdown",
      "metadata": {
        "id": "IiWu-o2SvxPr"
      },
      "source": [
        "### Now let's plot the loss and accuracy plots for training and validation to see the results visually."
      ]
    },
    {
      "cell_type": "code",
      "metadata": {
        "colab": {
          "base_uri": "https://localhost:8080/",
          "height": 545
        },
        "id": "QhOjch9_VFTA",
        "outputId": "226493e8-07ad-477c-d217-729cb4052130"
      },
      "source": [
        "accuracy = fashion_train_dropout.history['accuracy']\n",
        "val_accuracy = fashion_train_dropout.history['val_accuracy']\n",
        "loss = fashion_train_dropout.history['loss']\n",
        "val_loss = fashion_train_dropout.history['val_loss']\n",
        "\n",
        "epochs = range(len(accuracy))\n",
        "plt.plot(epochs, accuracy, 'bo', label='Training Accuracy')\n",
        "plt.plot(epochs, val_accuracy, 'b', label='Validation Accuracy')\n",
        "plt.title('Training & Validation Accuracy')\n",
        "plt.legend()\n",
        "plt.figure()\n",
        "plt.plot(epochs, loss, 'bo', label='Training Loss')\n",
        "plt.plot(epochs, val_loss, 'b', label='Validation Loss')\n",
        "plt.title('Training & Validation Loss')\n",
        "plt.legend()\n",
        "plt.show()"
      ],
      "execution_count": null,
      "outputs": [
        {
          "output_type": "display_data",
          "data": {
            "image/png": "[encoded data removed]",
            "text/plain": [
              "<Figure size 432x288 with 1 Axes>"
            ]
          },
          "metadata": {
            "tags": [],
            "needs_background": "light"
          }
        },
        {
          "output_type": "display_data",
          "data": {
            "image/png": "[encoded data removed]",
            "text/plain": [
              "<Figure size 432x288 with 1 Axes>"
            ]
          },
          "metadata": {
            "tags": [],
            "needs_background": "light"
          }
        }
      ]
    },
    {
      "cell_type": "markdown",
      "metadata": {
        "id": "JxF9N0sWwBrv"
      },
      "source": [
        "### Now it's the time for prediction. We have a 92% of accuracy."
      ]
    },
    {
      "cell_type": "code",
      "metadata": {
        "id": "bJlsllRIWfFq"
      },
      "source": [
        "predicted = fashion_model.predict(X_test)\n",
        "predicted = np.argmax(np.round(predicted), axis=1)"
      ],
      "execution_count": null,
      "outputs": []
    },
    {
      "cell_type": "code",
      "metadata": {
        "colab": {
          "base_uri": "https://localhost:8080/"
        },
        "id": "GwSKnfAvVwLi",
        "outputId": "c286872c-971d-4680-b4c6-e55db55008b3"
      },
      "source": [
        "from sklearn.metrics import classification_report\n",
        "class_number = [\"Class {}\".format(i) for i in range(n_classes)]\n",
        "print(classification_report(y_test, predicted, target_names=class_number))"
      ],
      "execution_count": null,
      "outputs": [
        {
          "output_type": "stream",
          "text": [
            "              precision    recall  f1-score   support\n",
            "\n",
            "     Class 0       0.77      0.93      0.84      1000\n",
            "     Class 1       0.99      0.98      0.99      1000\n",
            "     Class 2       0.88      0.88      0.88      1000\n",
            "     Class 3       0.91      0.93      0.92      1000\n",
            "     Class 4       0.89      0.87      0.88      1000\n",
            "     Class 5       0.99      0.98      0.98      1000\n",
            "     Class 6       0.83      0.68      0.75      1000\n",
            "     Class 7       0.96      0.97      0.96      1000\n",
            "     Class 8       0.99      0.98      0.99      1000\n",
            "     Class 9       0.97      0.97      0.97      1000\n",
            "\n",
            "    accuracy                           0.92     10000\n",
            "   macro avg       0.92      0.92      0.92     10000\n",
            "weighted avg       0.92      0.92      0.92     10000\n",
            "\n"
          ],
          "name": "stdout"
        }
      ]
    },
    {
      "cell_type": "markdown",
      "metadata": {
        "id": "FZMV3jVdwcLF"
      },
      "source": [
        "### Here we visualize the correct predictions made by the model."
      ]
    },
    {
      "cell_type": "code",
      "metadata": {
        "colab": {
          "base_uri": "https://localhost:8080/",
          "height": 297
        },
        "id": "JYdSb7c2XWwy",
        "outputId": "8a05f726-8fe7-46d7-a96f-14747d01ab0e"
      },
      "source": [
        "correct = np.where(predicted==y_test)[0]\n",
        "\n",
        "for i, correct in enumerate(correct[:9]):\n",
        "    plt.subplot(3,3,i+1)\n",
        "    plt.imshow(X_test[correct].reshape(28,28), cmap='gray', interpolation='none')\n",
        "    plt.title(\"Predicted {}, Class {}\".format(predicted[correct], y_test[correct]))\n",
        "    plt.tight_layout()"
      ],
      "execution_count": null,
      "outputs": [
        {
          "output_type": "display_data",
          "data": {
            "image/png": "[encoded data removed]",
            "text/plain": [
              "<Figure size 432x288 with 9 Axes>"
            ]
          },
          "metadata": {
            "tags": [],
            "needs_background": "light"
          }
        }
      ]
    }
  ]
}